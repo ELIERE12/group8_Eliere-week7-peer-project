def encrypt(text,s): 
    result = "" # transverse the plain text
    for i in range(len(text)): 
        char = text[i] 
        # Encrypt uppercase characters in plain text 
        if (char.isupper()): 
            result += chr((ord(char) + s-65) % 26 + 65) 
            # Encrypt lowercase characters in plain text 
        elif (char.islower()): 
            result += chr((ord(char) + s-97) % 26 + 97)
            # Encrypt lowercase characters in plain text 
        else: 
            result += chr((ord(char) + s - 97) % 26 + 97) 
            result +=char
    return result 
    #check the above function 
text = input('Enter your message to encrypt')
s=int(input(print('Enter the shift key eg. 23: ')))
print ("Plain Text : " + text )
print (f"Shift pattern : ", s)
print ("Cipher: " + encrypt(text,s))